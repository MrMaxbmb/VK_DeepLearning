{
 "cells": [
  {
   "cell_type": "markdown",
   "id": "71af23a7",
   "metadata": {},
   "source": [
    "# Домашнее задание 3: Улучшенная сверточная нейронная сеть для MNIST\n",
    "\n",
    "**Цель:** побить бейзлайн 0.9747\n",
    "\n",
    "**В этом ноутбуке:**\n",
    "- Использование Adam вместо SGD\n",
    "- Альтернативная функция потерь (MSELoss с one-hot кодированием)\n",
    "- Улучшенная архитектура CNN с различными параметрами\n",
    "- Полное логгирование метрик и визуализация\n",
    "- Подсчет обучаемых параметров\n",
    "- Эксперименты с различными конфигурациями\n",
    "\n",
    "---"
   ]
  },
  {
   "cell_type": "markdown",
   "id": "e48564b2",
   "metadata": {},
   "source": [
    "## 1. Импорт необходимых библиотек"
   ]
  },
  {
   "cell_type": "code",
   "execution_count": 1,
   "id": "10bddc34",
   "metadata": {},
   "outputs": [
    {
     "name": "stdout",
     "output_type": "stream",
     "text": [
      "PyTorch версия: 2.8.0+cu129\n",
      "Torchvision версия: 0.23.0+cu129\n",
      "CUDA доступна: True\n",
      "CUDA устройство (карточка сюююда): NVIDIA GeForce RTX 5060\n"
     ]
    }
   ],
   "source": [
    "import torch\n",
    "import torch.nn as nn\n",
    "import torch.nn.functional as F\n",
    "import torchvision\n",
    "import torchvision.transforms as transforms\n",
    "import numpy as np\n",
    "import matplotlib.pyplot as plt\n",
    "%matplotlib inline\n",
    "from tqdm import tqdm\n",
    "import os\n",
    "import warnings\n",
    "warnings.filterwarnings('ignore')\n",
    "\n",
    "print(f\"PyTorch версия: {torch.__version__}\")\n",
    "print(f\"Torchvision версия: {torchvision.__version__}\")\n",
    "print(f\"CUDA доступна: {torch.cuda.is_available()}\")\n",
    "if torch.cuda.is_available():\n",
    "    print(f\"CUDA устройство (карточка сюююда): {torch.cuda.get_device_name(0)}\")"
   ]
  },
  {
   "cell_type": "markdown",
   "id": "652f7468",
   "metadata": {},
   "source": [
    "## 2. Настройка воспроизводимости результатов"
   ]
  },
  {
   "cell_type": "code",
   "execution_count": 2,
   "id": "fccc067e",
   "metadata": {},
   "outputs": [
    {
     "name": "stdout",
     "output_type": "stream",
     "text": [
      "Установлен seed: 52\n"
     ]
    }
   ],
   "source": [
    "def seed_everywhere(seed):\n",
    "    \"\"\"Функция для фиксации seed для воспроизводимости результатов\"\"\"\n",
    "    np.random.seed(seed)\n",
    "    torch.manual_seed(seed)\n",
    "    os.environ['PYTHONHASHSEED'] = str(seed)\n",
    "    torch.backends.cudnn.deterministic = True\n",
    "    torch.backends.cudnn.benchmark = False\n",
    "    if torch.cuda.is_available():\n",
    "        torch.cuda.manual_seed(seed)\n",
    "        torch.cuda.manual_seed_all(seed)\n",
    "    print(f\"Установлен seed: {seed}\")\n",
    "\n",
    "# устанавливаем seed для воспроизводимости\n",
    "seed = 52\n",
    "seed_everywhere(seed)"
   ]
  },
  {
   "cell_type": "markdown",
   "id": "8611ec70",
   "metadata": {},
   "source": [
    "## 3. Загрузка и подготовка данных MNIST"
   ]
  },
  {
   "cell_type": "code",
   "execution_count": 3,
   "id": "01555bef",
   "metadata": {},
   "outputs": [
    {
     "name": "stdout",
     "output_type": "stream",
     "text": [
      "Вычисленное среднее: 0.1307\n",
      "Вычисленное стандартное отклонение: 0.3015\n",
      "Стандартные значения MNIST: mean=0.1307, std=0.3081\n",
      "Размер обучающей выборки: 60000\n",
      "Размер валидационной выборки: 10000\n",
      "Размер батча: 2048\n",
      "Количество батчей для обучения: 30\n",
      "Количество батчей для валидации: 5\n"
     ]
    }
   ],
   "source": [
    "# ради интереса посчитаем статистики иполучим загадочные transforms.Normalize((0.1307,), (0.3081,))\n",
    "temp_dataset = torchvision.datasets.MNIST(\n",
    "    './mnist/',\n",
    "    train=True,\n",
    "    download=True,\n",
    "    transform=transforms.ToTensor()\n",
    ")\n",
    "\n",
    "data_loader = torch.utils.data.DataLoader(temp_dataset, batch_size=1000, shuffle=False)\n",
    "mean = 0.0\n",
    "std = 0.0\n",
    "total_samples = 0\n",
    "\n",
    "for data, _ in data_loader:\n",
    "    batch_samples = data.size(0)\n",
    "    data = data.view(batch_samples, data.size(1), -1)\n",
    "    mean += data.mean(2).sum(0)\n",
    "    std += data.std(2).sum(0)\n",
    "    total_samples += batch_samples\n",
    "\n",
    "mean /= total_samples\n",
    "std /= total_samples\n",
    "\n",
    "print(f\"Вычисленное среднее: {mean.item():.4f}\")\n",
    "print(f\"Вычисленное стандартное отклонение: {std.item():.4f}\")\n",
    "print(f\"Стандартные значения MNIST: mean=0.1307, std=0.3081\")\n",
    "\n",
    "# для обучающего набора (с аугментацией)\n",
    "train_transform = transforms.Compose([\n",
    "    transforms.ToTensor(),\n",
    "    transforms.RandomRotation(degrees=10), \n",
    "    transforms.RandomAffine(degrees=0, translate=(0.1, 0.1)),  # сдвиги\n",
    "    transforms.Normalize((mean.item(),), (std.item(),))  # нормализация на вычисленных статистиках\n",
    "])\n",
    "\n",
    "# для валидационного набора (только нормализация)\n",
    "val_transform = transforms.Compose([\n",
    "    transforms.ToTensor(),\n",
    "    transforms.Normalize((mean.item(),), (std.item(),))  # ТА ЖЕ САМАЯ нормализация, И БЕЗ аугментации\n",
    "])\n",
    "\n",
    "# MNIST с соответствующими трансформациями\n",
    "mnist_train = torchvision.datasets.MNIST(\n",
    "    './mnist/',\n",
    "    train=True,\n",
    "    download=False,  # уже загружено\n",
    "    transform=train_transform\n",
    ")\n",
    "\n",
    "mnist_val = torchvision.datasets.MNIST(\n",
    "    './mnist/',\n",
    "    train=False,\n",
    "    download=False,  # уже загружено\n",
    "    transform=val_transform\n",
    ")\n",
    "\n",
    "# DataLoader'ы\n",
    "batch_size = 2048  # batch size для максимальной нагрузки на GPU\n",
    "train_loader = torch.utils.data.DataLoader(\n",
    "    mnist_train, \n",
    "    batch_size=batch_size, \n",
    "    shuffle=True\n",
    ")\n",
    "\n",
    "val_loader = torch.utils.data.DataLoader(\n",
    "    mnist_val, \n",
    "    batch_size=batch_size, \n",
    "    shuffle=False\n",
    ")\n",
    "\n",
    "print(f\"Размер обучающей выборки: {len(mnist_train)}\")\n",
    "print(f\"Размер валидационной выборки: {len(mnist_val)}\")\n",
    "print(f\"Размер батча: {batch_size}\")\n",
    "print(f\"Количество батчей для обучения: {len(train_loader)}\")\n",
    "print(f\"Количество батчей для валидации: {len(val_loader)}\")"
   ]
  },
  {
   "cell_type": "markdown",
   "id": "97a01291",
   "metadata": {},
   "source": [
    "## 4. Визуализация примеров данных"
   ]
  },
  {
   "cell_type": "code",
   "execution_count": 4,
   "id": "da266e78",
   "metadata": {},
   "outputs": [
    {
     "data": {
      "image/png": "[encoded data removed]",
      "text/plain": [
       "<Figure size 1200x600 with 10 Axes>"
      ]
     },
     "metadata": {},
     "output_type": "display_data"
    },
    {
     "name": "stdout",
     "output_type": "stream",
     "text": [
      "Размер батча изображений: torch.Size([2048, 1, 28, 28])\n",
      "Размер батча меток: torch.Size([2048])\n",
      "Тип данных изображений: torch.float32\n",
      "Тип данных меток: torch.int64\n"
     ]
    }
   ],
   "source": [
    "fig, axes = plt.subplots(2, 5, figsize=(12, 6))\n",
    "fig.suptitle('Примеры изображений из MNIST (с денормализацией)', fontsize=16)\n",
    "\n",
    "for i in range(10):\n",
    "    row = i // 5\n",
    "    col = i % 5\n",
    "    \n",
    "    image, label = mnist_train[i]\n",
    "    \n",
    "    # денормализуем изображение для корректного отображения\n",
    "    # обращаем нормализацию -> x * std + mean)\n",
    "    image_denorm = image.squeeze() * 0.3081 + 0.1307\n",
    "    \n",
    "    axes[row, col].imshow(image_denorm, cmap='gray')\n",
    "    axes[row, col].set_title(f'Метка: {label}')\n",
    "    axes[row, col].axis('off')\n",
    "\n",
    "plt.tight_layout()\n",
    "plt.show()\n",
    "\n",
    "# проверим размеры тензоров\n",
    "sample_batch = next(iter(train_loader))\n",
    "print(f\"Размер батча изображений: {sample_batch[0].shape}\")\n",
    "print(f\"Размер батча меток: {sample_batch[1].shape}\")\n",
    "print(f\"Тип данных изображений: {sample_batch[0].dtype}\")\n",
    "print(f\"Тип данных меток: {sample_batch[1].dtype}\")"
   ]
  },
  {
   "cell_type": "markdown",
   "id": "d88182ca",
   "metadata": {},
   "source": [
    "## 5. Улучшенная архитектура CNN"
   ]
  },
  {
   "cell_type": "code",
   "execution_count": 5,
   "id": "77c52c58",
   "metadata": {},
   "outputs": [
    {
     "name": "stdout",
     "output_type": "stream",
     "text": [
      "Общее количество обучаемых параметров: 1,848,714\n",
      "\n",
      "Архитектура модели:\n",
      "ImprovedCNN(\n",
      "  (conv1): Conv2d(1, 32, kernel_size=(3, 3), stride=(1, 1), padding=(1, 1))\n",
      "  (conv2): Conv2d(32, 64, kernel_size=(3, 3), stride=(1, 1), padding=(1, 1))\n",
      "  (pool1): MaxPool2d(kernel_size=2, stride=2, padding=0, dilation=1, ceil_mode=False)\n",
      "  (conv3): Conv2d(64, 128, kernel_size=(3, 3), stride=(1, 1), padding=(1, 1))\n",
      "  (conv4): Conv2d(128, 128, kernel_size=(3, 3), stride=(1, 1), padding=(1, 1))\n",
      "  (pool2): MaxPool2d(kernel_size=2, stride=2, padding=0, dilation=1, ceil_mode=False)\n",
      "  (dropout): Dropout(p=0.25, inplace=False)\n",
      "  (fc1): Linear(in_features=6272, out_features=256, bias=True)\n",
      "  (fc2): Linear(in_features=256, out_features=10, bias=True)\n",
      ")\n",
      "\n",
      "Входной размер: torch.Size([1, 1, 28, 28])\n",
      "После conv1: torch.Size([1, 32, 28, 28])\n",
      "После conv2: torch.Size([1, 64, 28, 28])\n",
      "После pool1: torch.Size([1, 64, 14, 14])\n",
      "После conv3: torch.Size([1, 128, 14, 14])\n",
      "После conv4: torch.Size([1, 128, 14, 14])\n",
      "После pool2: torch.Size([1, 128, 7, 7])\n",
      "После flatten: torch.Size([1, 6272])\n",
      "После fc1: torch.Size([1, 256])\n",
      "Выходной размер: torch.Size([1, 10])\n",
      "\n",
      "Модель перенесена на устройство: cuda\n",
      "\n",
      "Модель перенесена на устройство: cuda\n"
     ]
    }
   ],
   "source": [
    "class ImprovedCNN(nn.Module):\n",
    "    \"\"\"\n",
    "    Улучшенная сверточная нейронная сеть для MNIST\n",
    "    \n",
    "    Архитектура:\n",
    "    - Два сверточных блока с увеличивающимся количеством фильтров\n",
    "    - Использование padding для сохранения размеров\n",
    "    - Max pooling для уменьшения размерности\n",
    "    - Dropout для регуляризации (лекция 5, но тем не менее)\n",
    "    - Два полносвязных слоя для классификации\n",
    "    \"\"\"\n",
    "    \n",
    "    def __init__(self, dropout_rate=0.25):\n",
    "        super(ImprovedCNN, self).__init__()\n",
    "        \n",
    "        # первый сверточный блок\n",
    "        self.conv1 = nn.Conv2d(in_channels=1, out_channels=32, kernel_size=3, padding=1)\n",
    "        self.conv2 = nn.Conv2d(in_channels=32, out_channels=64, kernel_size=3, padding=1)\n",
    "        self.pool1 = nn.MaxPool2d(kernel_size=2, stride=2)  # 28x28 -> 14x14\n",
    "        \n",
    "        # второй \n",
    "        self.conv3 = nn.Conv2d(in_channels=64, out_channels=128, kernel_size=3, padding=1)\n",
    "        self.conv4 = nn.Conv2d(in_channels=128, out_channels=128, kernel_size=3, padding=1)\n",
    "        self.pool2 = nn.MaxPool2d(kernel_size=2, stride=2)  # 14x14 -> 7x7\n",
    "        \n",
    "        # dropout для регуляризации\n",
    "        self.dropout = nn.Dropout(dropout_rate)\n",
    "        \n",
    "        # полносвязные слои\n",
    "        # после двух pooling слоев: 128 * 7 * 7 = 6272\n",
    "        self.fc1 = nn.Linear(128 * 7 * 7, 256)\n",
    "        self.fc2 = nn.Linear(256, 10)  # 10 классов для MNIST\n",
    "        \n",
    "    def forward(self, x):\n",
    "        # первый сверточный блок\n",
    "        x = F.relu(self.conv1(x))\n",
    "        x = F.relu(self.conv2(x))\n",
    "        x = self.pool1(x)\n",
    "        x = self.dropout(x)\n",
    "        \n",
    "        # второй \n",
    "        x = F.relu(self.conv3(x))\n",
    "        x = F.relu(self.conv4(x))\n",
    "        x = self.pool2(x)\n",
    "        x = self.dropout(x)\n",
    "        \n",
    "        # выравнивание тензора для полносвязных слоев, можно и flatten\n",
    "        x = x.view(x.size(0), -1)\n",
    "        \n",
    "        # полносвязные слои\n",
    "        x = F.relu(self.fc1(x))\n",
    "        x = self.dropout(x)\n",
    "        x = self.fc2(x)\n",
    "        \n",
    "        return x\n",
    "\n",
    "def count_parameters(model):\n",
    "    \"\"\"Подсчет количества обучаемых параметров в модели\"\"\"\n",
    "    return sum(p.numel() for p in model.parameters() if p.requires_grad)\n",
    "\n",
    "# создаём объект модели\n",
    "model = ImprovedCNN(dropout_rate=0.25)\n",
    "\n",
    "# Подсчет параметров\n",
    "total_params = count_parameters(model)\n",
    "print(f\"Общее количество обучаемых параметров: {total_params:,}\")\n",
    "\n",
    "# Вывод информации об архитектуре\n",
    "print(\"\\nАрхитектура модели:\")\n",
    "print(model)\n",
    "\n",
    "# Проверим размеры тензоров на каждом слое\n",
    "dummy_input = torch.randn(1, 1, 28, 28)\n",
    "print(f\"\\nВходной размер: {dummy_input.shape}\")\n",
    "\n",
    "with torch.no_grad():\n",
    "    x = dummy_input\n",
    "    print(f\"После conv1: {F.relu(model.conv1(x)).shape}\")\n",
    "    x = F.relu(model.conv1(x))\n",
    "    print(f\"После conv2: {F.relu(model.conv2(x)).shape}\")\n",
    "    x = F.relu(model.conv2(x))\n",
    "    print(f\"После pool1: {model.pool1(x).shape}\")\n",
    "    x = model.pool1(x)\n",
    "    print(f\"После conv3: {F.relu(model.conv3(x)).shape}\")\n",
    "    x = F.relu(model.conv3(x))\n",
    "    print(f\"После conv4: {F.relu(model.conv4(x)).shape}\")\n",
    "    x = F.relu(model.conv4(x))\n",
    "    print(f\"После pool2: {model.pool2(x).shape}\")\n",
    "    x = model.pool2(x)\n",
    "    print(f\"После flatten: {x.view(x.size(0), -1).shape}\")\n",
    "    x = x.view(x.size(0), -1)\n",
    "    print(f\"После fc1: {F.relu(model.fc1(x)).shape}\")\n",
    "    x = F.relu(model.fc1(x))\n",
    "    print(f\"Выходной размер: {model.fc2(x).shape}\")\n",
    "\n",
    "# перенос модели на GPU, если доступно\n",
    "device = torch.device('cuda' if torch.cuda.is_available() else 'cpu')\n",
    "model = model.to(device)\n",
    "print(f\"\\nМодель перенесена на устройство: {device}\")"
   ]
  },
  {
   "cell_type": "markdown",
   "id": "3e649a5d",
   "metadata": {},
   "source": [
    "## 6. Альтернативный оптимизатор и функция потерь"
   ]
  },
  {
   "cell_type": "code",
   "execution_count": 6,
   "id": "ae9d0936",
   "metadata": {},
   "outputs": [
    {
     "name": "stdout",
     "output_type": "stream",
     "text": [
      "Используемый оптимизатор: Adam\n",
      "Learning rate: 0.001\n",
      "Weight decay: 0.0001\n",
      "\n",
      "Используемая функция потерь: MSELoss\n",
      "Примечание: MSE Loss требует one-hot кодирования меток\n",
      "\n",
      "Пример преобразования меток:\n",
      "Исходные метки: tensor([0, 1, 2, 3, 4])\n",
      "One-hot кодирование:\n",
      "tensor([[1., 0., 0., 0., 0., 0., 0., 0., 0., 0.],\n",
      "        [0., 1., 0., 0., 0., 0., 0., 0., 0., 0.],\n",
      "        [0., 0., 1., 0., 0., 0., 0., 0., 0., 0.],\n",
      "        [0., 0., 0., 1., 0., 0., 0., 0., 0., 0.],\n",
      "        [0., 0., 0., 0., 1., 0., 0., 0., 0., 0.]])\n",
      "\n",
      "Используется планировщик learning rate: StepLR\n",
      "Уменьшение LR каждые 5 эпох на множитель: 0.7\n"
     ]
    }
   ],
   "source": [
    "# Adam оптимизатор вместо SGD\n",
    "# Adam более эффективен для глубоких сетей и автоматически адаптирует learning rate\n",
    "LEARNING_RATE = 0.001\n",
    "optimizer = torch.optim.Adam(model.parameters(), lr=LEARNING_RATE, weight_decay=1e-4)\n",
    "\n",
    "# AdamW(model.parameters(), lr=LEARNING_RATE, weight_decay=1e-4)\n",
    "# RMSprop(model.parameters(), lr=LEARNING_RATE, weight_decay=1e-4)\n",
    "\n",
    "print(f\"Используемый оптимизатор: {type(optimizer).__name__}\")\n",
    "print(f\"Learning rate: {LEARNING_RATE}\")\n",
    "print(f\"Weight decay: {optimizer.param_groups[0]['weight_decay']}\")\n",
    "\n",
    "# Функция для преобразования меток в one-hot кодирование\n",
    "def to_one_hot(labels, num_classes=10):\n",
    "    \"\"\"Преобразование целочисленных меток в one-hot кодирование\"\"\"\n",
    "    return torch.eye(num_classes, device=labels.device)[labels]\n",
    "\n",
    "# Используем MSE Loss вместо CrossEntropyLoss\n",
    "# MSE требует one-hot кодирования меток\n",
    "criterion = nn.MSELoss()\n",
    "\n",
    "print(f\"\\nИспользуемая функция потерь: {type(criterion).__name__}\")\n",
    "print(\"Примечание: MSE Loss требует one-hot кодирования меток\")\n",
    "\n",
    "# Тестируем преобразование меток\n",
    "sample_labels = torch.tensor([0, 1, 2, 3, 4])\n",
    "one_hot_labels = to_one_hot(sample_labels)\n",
    "print(f\"\\nПример преобразования меток:\")\n",
    "print(f\"Исходные метки: {sample_labels}\")\n",
    "print(f\"One-hot кодирование:\\n{one_hot_labels}\")\n",
    "\n",
    "# Планировщик learning rate для улучшения сходимости\n",
    "scheduler = torch.optim.lr_scheduler.StepLR(optimizer, step_size=5, gamma=0.7)\n",
    "print(f\"\\nИспользуется планировщик learning rate: {type(scheduler).__name__}\")\n",
    "print(f\"Уменьшение LR каждые 5 эпох на множитель: 0.7\")"
   ]
  },
  {
   "cell_type": "markdown",
   "id": "6ac68787",
   "metadata": {},
   "source": [
    "## 7. Функция обучения с полным логгированием метрик"
   ]
  },
  {
   "cell_type": "code",
   "execution_count": 7,
   "id": "6030643a",
   "metadata": {},
   "outputs": [
    {
     "name": "stdout",
     "output_type": "stream",
     "text": [
      "Функция обучения готова к использованию!\n"
     ]
    }
   ],
   "source": [
    "def train_and_evaluate(model, train_loader, val_loader, optimizer, criterion, scheduler, num_epochs=10, device='cpu'):\n",
    "    \"\"\"\n",
    "    Функция для обучения и валидации модели с полным логгированием метрик\n",
    "    \n",
    "    Args:\n",
    "        model: Модель PyTorch\n",
    "        train_loader: DataLoader для обучающих данных\n",
    "        val_loader: DataLoader для валидационных данных\n",
    "        optimizer: Оптимизатор\n",
    "        criterion: Функция потерь\n",
    "        scheduler: Планировщик learning rate\n",
    "        num_epochs: Количество эпох обучения\n",
    "        device: Устройство для вычислений\n",
    "    \n",
    "    Returns:\n",
    "        history: Словарь с историей метрик\n",
    "    \"\"\"\n",
    "    \n",
    "    # Инициализация списков для хранения истории метрик\n",
    "    history = {\n",
    "        'train_loss': [],\n",
    "        'train_acc': [],\n",
    "        'val_loss': [],\n",
    "        'val_acc': [],\n",
    "        'learning_rates': []\n",
    "    }\n",
    "    \n",
    "    print(f\"Начинаем обучение на {num_epochs} эпох...\")\n",
    "    print(f\"Устройство: {device}\")\n",
    "    print(\"-\" * 60)\n",
    "    \n",
    "    for epoch in range(num_epochs):\n",
    "        # === ОБУЧЕНИЕ ===\n",
    "        model.train()\n",
    "        train_loss = 0.0\n",
    "        train_correct = 0\n",
    "        train_total = 0\n",
    "        \n",
    "        # Прогресс-бар для обучения\n",
    "        train_pbar = tqdm(train_loader, desc=f'Epoch {epoch+1}/{num_epochs} [Train]', leave=False)\n",
    "        \n",
    "        for batch_idx, (data, target) in enumerate(train_pbar):\n",
    "            # Перенос данных на устройство\n",
    "            data, target = data.to(device), target.to(device)\n",
    "            \n",
    "            # Обнуление градиентов\n",
    "            optimizer.zero_grad()\n",
    "            \n",
    "            # Прямой проход\n",
    "            output = model(data)\n",
    "            \n",
    "            # Преобразование меток в one-hot для MSE Loss\n",
    "            target_onehot = to_one_hot(target, num_classes=10).to(device)\n",
    "            \n",
    "            # Вычисление потерь\n",
    "            loss = criterion(output, target_onehot)\n",
    "            \n",
    "            # Обратный проход\n",
    "            loss.backward()\n",
    "            optimizer.step()\n",
    "            \n",
    "            # Статистика\n",
    "            train_loss += loss.item() * data.size(0)\n",
    "            pred = output.argmax(dim=1, keepdim=True)\n",
    "            train_correct += pred.eq(target.view_as(pred)).sum().item()\n",
    "            train_total += data.size(0)\n",
    "            \n",
    "            # Обновление прогресс-бара\n",
    "            current_acc = 100. * train_correct / train_total\n",
    "            train_pbar.set_postfix({\n",
    "                'Loss': f'{loss.item():.4f}',\n",
    "                'Acc': f'{current_acc:.2f}%'\n",
    "            })\n",
    "        \n",
    "        # Средние метрики за эпоху обучения\n",
    "        avg_train_loss = train_loss / train_total\n",
    "        train_accuracy = train_correct / train_total\n",
    "        \n",
    "        # === ВАЛИДАЦИЯ ===\n",
    "        model.eval()\n",
    "        val_loss = 0.0\n",
    "        val_correct = 0\n",
    "        val_total = 0\n",
    "        \n",
    "        with torch.no_grad():\n",
    "            val_pbar = tqdm(val_loader, desc=f'Epoch {epoch+1}/{num_epochs} [Val]', leave=False)\n",
    "            \n",
    "            for data, target in val_pbar:\n",
    "                data, target = data.to(device), target.to(device)\n",
    "                \n",
    "                output = model(data)\n",
    "                target_onehot = to_one_hot(target, num_classes=10).to(device)\n",
    "                \n",
    "                loss = criterion(output, target_onehot)\n",
    "                \n",
    "                val_loss += loss.item() * data.size(0)\n",
    "                pred = output.argmax(dim=1, keepdim=True)\n",
    "                val_correct += pred.eq(target.view_as(pred)).sum().item()\n",
    "                val_total += data.size(0)\n",
    "                \n",
    "                # Обновление прогресс-бара\n",
    "                current_val_acc = 100. * val_correct / val_total\n",
    "                val_pbar.set_postfix({\n",
    "                    'Loss': f'{loss.item():.4f}',\n",
    "                    'Acc': f'{current_val_acc:.2f}%'\n",
    "                })\n",
    "        \n",
    "        # Средние метрики за эпоху валидации\n",
    "        avg_val_loss = val_loss / val_total\n",
    "        val_accuracy = val_correct / val_total\n",
    "        \n",
    "        # Обновление learning rate\n",
    "        current_lr = optimizer.param_groups[0]['lr']\n",
    "        scheduler.step()\n",
    "        \n",
    "        # Сохранение метрик\n",
    "        history['train_loss'].append(avg_train_loss)\n",
    "        history['train_acc'].append(train_accuracy)\n",
    "        history['val_loss'].append(avg_val_loss)\n",
    "        history['val_acc'].append(val_accuracy)\n",
    "        history['learning_rates'].append(current_lr)\n",
    "        \n",
    "        # Вывод статистики эпохи с информацией о GPU\n",
    "        gpu_memory = \"\"\n",
    "        if torch.cuda.is_available():\n",
    "            gpu_memory = f\" | GPU: {torch.cuda.memory_allocated() / 1024**2:.0f}MB\"\n",
    "        \n",
    "        print(f'Epoch {epoch+1:2d}/{num_epochs}: '\n",
    "              f'Train Loss: {avg_train_loss:.4f}, Train Acc: {train_accuracy:.4f} | '\n",
    "              f'Val Loss: {avg_val_loss:.4f}, Val Acc: {val_accuracy:.4f} | '\n",
    "              f'LR: {current_lr:.6f}{gpu_memory}')\n",
    "    \n",
    "    print(\"-\" * 60)\n",
    "    print(\"Обучение завершено!\")\n",
    "    \n",
    "    return history\n",
    "\n",
    "print(\"Функция обучения готова к использованию!\")"
   ]
  },
  {
   "cell_type": "markdown",
   "id": "8bc985f3",
   "metadata": {},
   "source": [
    "## 8. Обучение модели"
   ]
  },
  {
   "cell_type": "code",
   "execution_count": 8,
   "id": "79319398",
   "metadata": {},
   "outputs": [
    {
     "name": "stdout",
     "output_type": "stream",
     "text": [
      "=== ДИАГНОСТИКА GPU ===\n",
      "CUDA доступна: True\n",
      "Текущее CUDA устройство: 0\n",
      "Имя GPU: NVIDIA GeForce RTX 5060\n",
      "Количество GPU: 1\n",
      "Память GPU: 8.0 GB\n",
      "\n",
      "Устройство модели: cuda:0\n",
      "Переменная device: cuda\n",
      "Модель на GPU: True\n",
      "Тестовый вход на устройстве: cuda:0\n",
      "Тестовый выход на устройстве: cuda:0\n",
      "Использование памяти GPU: 15.2 MB\n",
      "Кэшированная память GPU: 22.0 MB\n",
      "========================\n",
      "Тестовый выход на устройстве: cuda:0\n",
      "Использование памяти GPU: 15.2 MB\n",
      "Кэшированная память GPU: 22.0 MB\n",
      "========================\n"
     ]
    }
   ],
   "source": [
    "# Диагностика использования GPU\n",
    "print(\"=== ДИАГНОСТИКА GPU ===\")\n",
    "print(f\"CUDA доступна: {torch.cuda.is_available()}\")\n",
    "if torch.cuda.is_available():\n",
    "    print(f\"Текущее CUDA устройство: {torch.cuda.current_device()}\")\n",
    "    print(f\"Имя GPU: {torch.cuda.get_device_name(0)}\")\n",
    "    print(f\"Количество GPU: {torch.cuda.device_count()}\")\n",
    "    print(f\"Память GPU: {torch.cuda.get_device_properties(0).total_memory / 1024**3:.1f} GB\")\n",
    "\n",
    "print(f\"\\nУстройство модели: {next(model.parameters()).device}\")\n",
    "print(f\"Переменная device: {device}\")\n",
    "\n",
    "# Проверим, действительно ли модель на GPU\n",
    "model_on_gpu = next(model.parameters()).is_cuda\n",
    "print(f\"Модель на GPU: {model_on_gpu}\")\n",
    "\n",
    "# Тест небольшого батча\n",
    "if torch.cuda.is_available():\n",
    "    test_input = torch.randn(1, 1, 28, 28).to(device)\n",
    "    print(f\"Тестовый вход на устройстве: {test_input.device}\")\n",
    "    \n",
    "    with torch.no_grad():\n",
    "        test_output = model(test_input)\n",
    "        print(f\"Тестовый выход на устройстве: {test_output.device}\")\n",
    "    \n",
    "    # Проверим загрузку GPU\n",
    "    print(f\"Использование памяти GPU: {torch.cuda.memory_allocated() / 1024**2:.1f} MB\")\n",
    "    print(f\"Кэшированная память GPU: {torch.cuda.memory_reserved() / 1024**2:.1f} MB\")\n",
    "else:\n",
    "    print(\"CUDA недоступна, работаем на CPU\")\n",
    "\n",
    "print(\"========================\")"
   ]
  },
  {
   "cell_type": "code",
   "execution_count": 10,
   "id": "165db635",
   "metadata": {},
   "outputs": [
    {
     "name": "stdout",
     "output_type": "stream",
     "text": [
      "Запускаем обучение на 12 эпох...\n",
      "Модель: ImprovedCNN\n",
      "Оптимизатор: Adam\n",
      "Функция потерь: MSELoss\n",
      "Устройство: cuda\n",
      "Всего параметров: 1,848,714\n",
      "\n",
      "Начинаем обучение в 17:05:01...\n",
      "Начинаем обучение на 12 эпох...\n",
      "Устройство: cuda\n",
      "------------------------------------------------------------\n"
     ]
    },
    {
     "name": "stderr",
     "output_type": "stream",
     "text": [
      "                                                                                            \r"
     ]
    },
    {
     "name": "stdout",
     "output_type": "stream",
     "text": [
      "Epoch  1/12: Train Loss: 0.0939, Train Acc: 0.1614 | Val Loss: 0.0776, Val Acc: 0.5669 | LR: 0.001000 | GPU: 50MB\n"
     ]
    },
    {
     "name": "stderr",
     "output_type": "stream",
     "text": [
      "                                                                                            \r"
     ]
    },
    {
     "name": "stdout",
     "output_type": "stream",
     "text": [
      "Epoch  2/12: Train Loss: 0.0693, Train Acc: 0.5396 | Val Loss: 0.0442, Val Acc: 0.8289 | LR: 0.001000 | GPU: 50MB\n"
     ]
    },
    {
     "name": "stderr",
     "output_type": "stream",
     "text": [
      "                                                                                            \r"
     ]
    },
    {
     "name": "stdout",
     "output_type": "stream",
     "text": [
      "Epoch  3/12: Train Loss: 0.0480, Train Acc: 0.7783 | Val Loss: 0.0207, Val Acc: 0.9501 | LR: 0.001000 | GPU: 50MB\n"
     ]
    },
    {
     "name": "stderr",
     "output_type": "stream",
     "text": [
      "                                                                                            \r"
     ]
    },
    {
     "name": "stdout",
     "output_type": "stream",
     "text": [
      "Epoch  4/12: Train Loss: 0.0300, Train Acc: 0.9042 | Val Loss: 0.0101, Val Acc: 0.9745 | LR: 0.001000 | GPU: 50MB\n"
     ]
    },
    {
     "name": "stderr",
     "output_type": "stream",
     "text": [
      "                                                                                            \r"
     ]
    },
    {
     "name": "stdout",
     "output_type": "stream",
     "text": [
      "Epoch  5/12: Train Loss: 0.0212, Train Acc: 0.9397 | Val Loss: 0.0070, Val Acc: 0.9801 | LR: 0.001000 | GPU: 50MB\n"
     ]
    },
    {
     "name": "stderr",
     "output_type": "stream",
     "text": [
      "                                                                                            \r"
     ]
    },
    {
     "name": "stdout",
     "output_type": "stream",
     "text": [
      "Epoch  6/12: Train Loss: 0.0173, Train Acc: 0.9550 | Val Loss: 0.0063, Val Acc: 0.9834 | LR: 0.000700 | GPU: 50MB\n"
     ]
    },
    {
     "name": "stderr",
     "output_type": "stream",
     "text": [
      "                                                                                            \r"
     ]
    },
    {
     "name": "stdout",
     "output_type": "stream",
     "text": [
      "Epoch  7/12: Train Loss: 0.0154, Train Acc: 0.9608 | Val Loss: 0.0053, Val Acc: 0.9850 | LR: 0.000700 | GPU: 50MB\n"
     ]
    },
    {
     "name": "stderr",
     "output_type": "stream",
     "text": [
      "                                                                                            \r"
     ]
    },
    {
     "name": "stdout",
     "output_type": "stream",
     "text": [
      "Epoch  8/12: Train Loss: 0.0141, Train Acc: 0.9657 | Val Loss: 0.0049, Val Acc: 0.9874 | LR: 0.000700 | GPU: 50MB\n"
     ]
    },
    {
     "name": "stderr",
     "output_type": "stream",
     "text": [
      "                                                                                            \r"
     ]
    },
    {
     "name": "stdout",
     "output_type": "stream",
     "text": [
      "Epoch  9/12: Train Loss: 0.0131, Train Acc: 0.9684 | Val Loss: 0.0046, Val Acc: 0.9874 | LR: 0.000700 | GPU: 50MB\n"
     ]
    },
    {
     "name": "stderr",
     "output_type": "stream",
     "text": [
      "                                                                                             \r"
     ]
    },
    {
     "name": "stdout",
     "output_type": "stream",
     "text": [
      "Epoch 10/12: Train Loss: 0.0123, Train Acc: 0.9708 | Val Loss: 0.0045, Val Acc: 0.9881 | LR: 0.000700 | GPU: 50MB\n"
     ]
    },
    {
     "name": "stderr",
     "output_type": "stream",
     "text": [
      "                                                                                             \r"
     ]
    },
    {
     "name": "stdout",
     "output_type": "stream",
     "text": [
      "Epoch 11/12: Train Loss: 0.0117, Train Acc: 0.9738 | Val Loss: 0.0042, Val Acc: 0.9896 | LR: 0.000490 | GPU: 50MB\n"
     ]
    },
    {
     "name": "stderr",
     "output_type": "stream",
     "text": [
      "                                                                                             "
     ]
    },
    {
     "name": "stdout",
     "output_type": "stream",
     "text": [
      "Epoch 12/12: Train Loss: 0.0114, Train Acc: 0.9733 | Val Loss: 0.0042, Val Acc: 0.9890 | LR: 0.000490 | GPU: 50MB\n",
      "------------------------------------------------------------\n",
      "Обучение завершено!\n",
      "====================================================\n",
      "⏱Общее время обучения: 00:09:21\n",
      "Время на эпоху: 46.8 секунд\n",
      "Время завершения: 17:14:22\n",
      "\n",
      "Лучшая accuracy на обучении: 0.9738 (97.38%)\n",
      "Лучшая accuracy на валидации: 0.9896 (98.96%)\n",
      "Лучший результат достигнут на эпохе: 11\n",
      "Бейзлайн из семинара: 0.9747 (97.47%)\n",
      "Бейзлайн побит! Улучшение на 1.49%\n",
      "Скорость обучения: 0.16% улучшения в минуту\n",
      "====================================================\n",
      "\n",
      "СТАТИСТИКА ПРОИЗВОДИТЕЛЬНОСТИ:\n",
      "Батчей в секунду: 0.6\n",
      "Пиковая память GPU: 3788 MB\n",
      "Финальная accuracy: 98.90%\n",
      "Финальный loss: 0.0042\n"
     ]
    },
    {
     "name": "stderr",
     "output_type": "stream",
     "text": [
      "\r"
     ]
    }
   ],
   "source": [
    "# запуск обучения модели\n",
    "NUM_EPOCHS = 12\n",
    "print(f\"Запускаем обучение на {NUM_EPOCHS} эпох...\")\n",
    "print(f\"Модель: {type(model).__name__}\")\n",
    "print(f\"Оптимизатор: {type(optimizer).__name__}\")\n",
    "print(f\"Функция потерь: {type(criterion).__name__}\")\n",
    "print(f\"Устройство: {device}\")\n",
    "print(f\"Всего параметров: {count_parameters(model):,}\")\n",
    "\n",
    "# время обучения\n",
    "import time\n",
    "start_time = time.time()\n",
    "print(f\"\\nНачинаем обучение в {time.strftime('%H:%M:%S')}...\")\n",
    "\n",
    "# Обучение модели\n",
    "history = train_and_evaluate(\n",
    "    model=model,\n",
    "    train_loader=train_loader,\n",
    "    val_loader=val_loader,\n",
    "    optimizer=optimizer,\n",
    "    criterion=criterion,\n",
    "    scheduler=scheduler,\n",
    "    num_epochs=NUM_EPOCHS,\n",
    "    device=device\n",
    ")\n",
    "\n",
    "# общее время обучения\n",
    "end_time = time.time()\n",
    "total_training_time = end_time - start_time\n",
    "\n",
    "# Вывод лучших результатов\n",
    "best_train_acc = max(history['train_acc'])\n",
    "best_val_acc = max(history['val_acc'])\n",
    "best_epoch = history['val_acc'].index(best_val_acc) + 1\n",
    "\n",
    "# время обучения\n",
    "training_hours = int(total_training_time // 3600)\n",
    "training_minutes = int((total_training_time % 3600) // 60)\n",
    "training_seconds = int(total_training_time % 60)\n",
    "\n",
    "print(f\"{'='*52}\")\n",
    "print(f\"⏱Общее время обучения: {training_hours:02d}:{training_minutes:02d}:{training_seconds:02d}\")\n",
    "print(f\"Время на эпоху: {total_training_time/NUM_EPOCHS:.1f} секунд\")\n",
    "print(f\"Время завершения: {time.strftime('%H:%M:%S')}\")\n",
    "print(f\"\")\n",
    "print(f\"Лучшая accuracy на обучении: {best_train_acc:.4f} ({best_train_acc*100:.2f}%)\")\n",
    "print(f\"Лучшая accuracy на валидации: {best_val_acc:.4f} ({best_val_acc*100:.2f}%)\")\n",
    "print(f\"Лучший результат достигнут на эпохе: {best_epoch}\")\n",
    "print(f\"Бейзлайн из семинара: 0.9747 (97.47%)\")\n",
    "\n",
    "if best_val_acc > 0.9747:\n",
    "    improvement = (best_val_acc - 0.9747)*100\n",
    "    print(f\"Бейзлайн побит! Улучшение на {improvement:.2f}%\")\n",
    "    print(f\"Скорость обучения: {improvement/total_training_time*60:.2f}% улучшения в минуту\")\n",
    "else:\n",
    "    deficit = (0.9747 - best_val_acc)*100\n",
    "    print(f\"Не удалось побить бейзлайн. Отставание: {deficit:.2f}%\")\n",
    "\n",
    "print(f\"{'='*52}\")\n",
    "\n",
    "# дополнительная статистика производительности\n",
    "print(f\"\\nСТАТИСТИКА ПРОИЗВОДИТЕЛЬНОСТИ:\")\n",
    "print(f\"Батчей в секунду: {len(train_loader) * NUM_EPOCHS / total_training_time:.1f}\")\n",
    "print(f\"Пиковая память GPU: {torch.cuda.max_memory_allocated() / 1024**2:.0f} MB\")\n",
    "print(f\"Финальная accuracy: {history['val_acc'][-1]*100:.2f}%\")\n",
    "print(f\"Финальный loss: {history['val_loss'][-1]:.4f}\")\n",
    "\n",
    "# сброс статистики памяти для следующих экспериментов\n",
    "torch.cuda.reset_peak_memory_stats()"
   ]
  },
  {
   "cell_type": "markdown",
   "id": "ecd3ea7d",
   "metadata": {},
   "source": [
    "## 9. Визуализация результатов обучения"
   ]
  },
  {
   "cell_type": "code",
   "execution_count": 11,
   "id": "10030ec1",
   "metadata": {},
   "outputs": [
    {
     "data": {
      "image/png": "[encoded data removed]",
      "text/plain": [
       "<Figure size 1500x1000 with 4 Axes>"
      ]
     },
     "metadata": {},
     "output_type": "display_data"
    },
    {
     "name": "stdout",
     "output_type": "stream",
     "text": [
      "\n",
      "====================================================\n",
      "Финальная точность на обучении: 97.33%\n",
      "Финальная точность на валидации: 98.90%\n",
      "Максимальная точность на валидации: 98.96%\n",
      "Минимальные потери на валидации: 0.0042\n",
      "Разность финальных точностей: -1.57%\n",
      "Переобучения скорее всего нет\n"
     ]
    }
   ],
   "source": [
    "def plot_training_history(history, baseline_acc=0.9747):\n",
    "    \"\"\"\n",
    "    Функция для построения графиков истории обучения\n",
    "    \"\"\"\n",
    "    epochs = range(1, len(history['train_loss']) + 1)\n",
    "    \n",
    "    fig, axes = plt.subplots(2, 2, figsize=(15, 10))\n",
    "    fig.suptitle('История обучения улучшенной CNN для MNIST', fontsize=16, fontweight='bold')\n",
    "    \n",
    "    # потери\n",
    "    axes[0, 0].plot(epochs, history['train_loss'], 'b-', label='Обучение', linewidth=2)\n",
    "    axes[0, 0].plot(epochs, history['val_loss'], 'r-', label='Валидация', linewidth=2)\n",
    "    axes[0, 0].set_title('Функция потерь (MSE Loss)', fontweight='bold')\n",
    "    axes[0, 0].set_xlabel('Эпоха')\n",
    "    axes[0, 0].set_ylabel('Потери')\n",
    "    axes[0, 0].legend()\n",
    "    axes[0, 0].grid(True, alpha=0.3)\n",
    "    axes[0, 0].set_ylim(bottom=0)\n",
    "    \n",
    "    # точность\n",
    "    axes[0, 1].plot(epochs, [acc*100 for acc in history['train_acc']], 'b-', label='Обучение', linewidth=2)\n",
    "    axes[0, 1].plot(epochs, [acc*100 for acc in history['val_acc']], 'r-', label='Валидация', linewidth=2)\n",
    "    axes[0, 1].axhline(y=baseline_acc*100, color='g', linestyle='--', linewidth=2, label=f'Бейзлайн ({baseline_acc*100:.2f}%)')\n",
    "    axes[0, 1].set_title('Точность классификации', fontweight='bold')\n",
    "    axes[0, 1].set_xlabel('Эпоха')\n",
    "    axes[0, 1].set_ylabel('Точность (%)')\n",
    "    axes[0, 1].legend()\n",
    "    axes[0, 1].grid(True, alpha=0.3)\n",
    "    axes[0, 1].set_ylim([85, 100])\n",
    "    \n",
    "    # learning rate\n",
    "    axes[1, 0].plot(epochs, history['learning_rates'], 'g-', linewidth=2)\n",
    "    axes[1, 0].set_title('Изменение Learning Rate', fontweight='bold')\n",
    "    axes[1, 0].set_xlabel('Эпоха')\n",
    "    axes[1, 0].set_ylabel('Learning Rate')\n",
    "    axes[1, 0].grid(True, alpha=0.3)\n",
    "    axes[1, 0].set_yscale('log')\n",
    "    \n",
    "    # разность между обучением и валидацией (переобучение)\n",
    "    train_val_diff = [train - val for train, val in zip(history['train_acc'], history['val_acc'])]\n",
    "    axes[1, 1].plot(epochs, [diff*100 for diff in train_val_diff], 'purple', linewidth=2)\n",
    "    axes[1, 1].set_title('Разность точности (Обучение - Валидация)', fontweight='bold')\n",
    "    axes[1, 1].set_xlabel('Эпоха')\n",
    "    axes[1, 1].set_ylabel('Разность точности (%)')\n",
    "    axes[1, 1].grid(True, alpha=0.3)\n",
    "    axes[1, 1].axhline(y=0, color='black', linestyle='-', alpha=0.3)\n",
    "    \n",
    "    plt.tight_layout()\n",
    "    plt.show()\n",
    "    \n",
    "    # статистика\n",
    "    print(\"\\n\" + \"=\"*52)\n",
    "    print(f\"Финальная точность на обучении: {history['train_acc'][-1]*100:.2f}%\")\n",
    "    print(f\"Финальная точность на валидации: {history['val_acc'][-1]*100:.2f}%\")\n",
    "    print(f\"Максимальная точность на валидации: {max(history['val_acc'])*100:.2f}%\")\n",
    "    print(f\"Минимальные потери на валидации: {min(history['val_loss']):.4f}\")\n",
    "    print(f\"Разность финальных точностей: {(history['train_acc'][-1] - history['val_acc'][-1])*100:.2f}%\")\n",
    "    \n",
    "    if max(train_val_diff) > 0.05:  # 5% разность\n",
    "        print(\"Возможное переобучение: разность точностей превышает 5%\")\n",
    "    else:\n",
    "        print(\"Переобучения скорее всего нет\")\n",
    "\n",
    "# построеним графиков\n",
    "plot_training_history(history)"
   ]
  },
  {
   "cell_type": "markdown",
   "id": "a4e4a0b7",
   "metadata": {},
   "source": [
    "## 10. Эксперименты с различными архитектурами"
   ]
  },
  {
   "cell_type": "code",
   "execution_count": null,
   "id": "2cc78d40",
   "metadata": {},
   "outputs": [
    {
     "name": "stdout",
     "output_type": "stream",
     "text": [
      "Сравнение различных архитектур CNN для MNIST:\n",
      "Каждая модель обучается 5 эпох для быстрого сравнения\\n\n",
      "==================================================\n",
      "ТЕСТИРОВАНИЕ МОДЕЛИ: Компактная CNN\n",
      "==================================================\n",
      "Количество параметров: 114,314\n",
      "Начинаем обучение на 5 эпох...\n",
      "Устройство: cuda\n",
      "------------------------------------------------------------\n"
     ]
    },
    {
     "name": "stderr",
     "output_type": "stream",
     "text": [
      "                                                                                           \r"
     ]
    },
    {
     "name": "stdout",
     "output_type": "stream",
     "text": [
      "Epoch  1/5: Train Loss: 0.0866, Train Acc: 0.3018 | Val Loss: 0.0600, Val Acc: 0.7803 | LR: 0.001000 | GPU: 52MB\n"
     ]
    },
    {
     "name": "stderr",
     "output_type": "stream",
     "text": [
      "                                                                                           \r"
     ]
    },
    {
     "name": "stdout",
     "output_type": "stream",
     "text": [
      "Epoch  2/5: Train Loss: 0.0604, Train Acc: 0.6847 | Val Loss: 0.0353, Val Acc: 0.9142 | LR: 0.001000 | GPU: 52MB\n"
     ]
    },
    {
     "name": "stderr",
     "output_type": "stream",
     "text": [
      "                                                                                           \r"
     ]
    },
    {
     "name": "stdout",
     "output_type": "stream",
     "text": [
      "Epoch  3/5: Train Loss: 0.0460, Train Acc: 0.8277 | Val Loss: 0.0241, Val Acc: 0.9498 | LR: 0.001000 | GPU: 52MB\n"
     ]
    },
    {
     "name": "stderr",
     "output_type": "stream",
     "text": [
      "                                                                                           \r"
     ]
    },
    {
     "name": "stdout",
     "output_type": "stream",
     "text": [
      "Epoch  4/5: Train Loss: 0.0380, Train Acc: 0.8851 | Val Loss: 0.0176, Val Acc: 0.9644 | LR: 0.000700 | GPU: 52MB\n"
     ]
    },
    {
     "name": "stderr",
     "output_type": "stream",
     "text": [
      "                                                                                           "
     ]
    },
    {
     "name": "stdout",
     "output_type": "stream",
     "text": [
      "Epoch  5/5: Train Loss: 0.0333, Train Acc: 0.9066 | Val Loss: 0.0147, Val Acc: 0.9699 | LR: 0.000700 | GPU: 52MB\n",
      "------------------------------------------------------------\n",
      "Обучение завершено!\n",
      "Лучшая валидационная точность: 0.9699 (96.99%)\n",
      "==================================================\n",
      "ТЕСТИРОВАНИЕ МОДЕЛИ: Глубокая CNN с BatchNorm\n",
      "==================================================\n",
      "Количество параметров: 698,218\n",
      "Начинаем обучение на 5 эпох...\n",
      "Устройство: cuda\n",
      "------------------------------------------------------------\n"
     ]
    },
    {
     "name": "stderr",
     "output_type": "stream",
     "text": [
      "                                                                                           \r"
     ]
    },
    {
     "name": "stdout",
     "output_type": "stream",
     "text": [
      "Epoch  1/5: Train Loss: 0.0848, Train Acc: 0.3258 | Val Loss: 0.0775, Val Acc: 0.3702 | LR: 0.001000 | GPU: 62MB\n"
     ]
    },
    {
     "name": "stderr",
     "output_type": "stream",
     "text": [
      "                                                                                           \r"
     ]
    },
    {
     "name": "stdout",
     "output_type": "stream",
     "text": [
      "Epoch  2/5: Train Loss: 0.0449, Train Acc: 0.8393 | Val Loss: 0.0334, Val Acc: 0.8672 | LR: 0.001000 | GPU: 62MB\n"
     ]
    },
    {
     "name": "stderr",
     "output_type": "stream",
     "text": [
      "                                                                                           \r"
     ]
    },
    {
     "name": "stdout",
     "output_type": "stream",
     "text": [
      "Epoch  3/5: Train Loss: 0.0224, Train Acc: 0.9575 | Val Loss: 0.0071, Val Acc: 0.9851 | LR: 0.001000 | GPU: 62MB\n"
     ]
    },
    {
     "name": "stderr",
     "output_type": "stream",
     "text": [
      "                                                                                           \r"
     ]
    },
    {
     "name": "stdout",
     "output_type": "stream",
     "text": [
      "Epoch  4/5: Train Loss: 0.0164, Train Acc: 0.9733 | Val Loss: 0.0059, Val Acc: 0.9870 | LR: 0.000700 | GPU: 62MB\n"
     ]
    },
    {
     "name": "stderr",
     "output_type": "stream",
     "text": [
      "                                                                                           "
     ]
    },
    {
     "name": "stdout",
     "output_type": "stream",
     "text": [
      "Epoch  5/5: Train Loss: 0.0142, Train Acc: 0.9779 | Val Loss: 0.0041, Val Acc: 0.9910 | LR: 0.000700 | GPU: 62MB\n",
      "------------------------------------------------------------\n",
      "Обучение завершено!\n",
      "Лучшая валидационная точность: 0.9910 (99.10%)\n",
      "\\n================================================================================\n",
      "СРАВНЕНИЕ АРХИТЕКТУР (после 5 эпох):\n",
      "================================================================================\n",
      "Модель                    Параметры       Точность        Сравнение с бейзлайном   \n",
      "--------------------------------------------------------------------------------\n",
      "Глубокая CNN              698,218         99.10         % +1.63%                   \n",
      "Основная CNN              1,848,714       98.01         % +0.54%                   \n",
      "Компактная CNN            114,314         96.99         % -0.48%                   \n",
      "----------------------------------------------------\n",
      "Бейзлайн: 97.47%\n"
     ]
    },
    {
     "name": "stderr",
     "output_type": "stream",
     "text": [
      "\r"
     ]
    }
   ],
   "source": [
    "class CompactCNN(nn.Module):\n",
    "    \"\"\"Компактная CNN с меньшим количеством параметров\"\"\"\n",
    "    def __init__(self):\n",
    "        super(CompactCNN, self).__init__()\n",
    "        self.conv1 = nn.Conv2d(1, 16, kernel_size=5, padding=2)\n",
    "        self.conv2 = nn.Conv2d(16, 32, kernel_size=5, padding=2)\n",
    "        self.pool = nn.MaxPool2d(2, 2)\n",
    "        self.dropout = nn.Dropout(0.25)\n",
    "        self.fc1 = nn.Linear(32 * 7 * 7, 64)\n",
    "        self.fc2 = nn.Linear(64, 10)\n",
    "    \n",
    "    def forward(self, x):\n",
    "        x = self.pool(F.relu(self.conv1(x)))\n",
    "        x = self.pool(F.relu(self.conv2(x)))\n",
    "        x = x.view(x.size(0), -1)\n",
    "        x = self.dropout(F.relu(self.fc1(x)))\n",
    "        x = self.fc2(x)\n",
    "        return x\n",
    "\n",
    "class DeepCNN(nn.Module):\n",
    "    \"\"\"Более глубокая CNN с batch normalization (тоже 5 лекция)\"\"\"\n",
    "    def __init__(self):\n",
    "        super(DeepCNN, self).__init__()\n",
    "        self.conv1 = nn.Conv2d(1, 32, kernel_size=3, padding=1)\n",
    "        self.bn1 = nn.BatchNorm2d(32)\n",
    "        self.conv2 = nn.Conv2d(32, 32, kernel_size=3, padding=1)\n",
    "        self.bn2 = nn.BatchNorm2d(32)\n",
    "        \n",
    "        self.conv3 = nn.Conv2d(32, 64, kernel_size=3, padding=1)\n",
    "        self.bn3 = nn.BatchNorm2d(64)\n",
    "        self.conv4 = nn.Conv2d(64, 64, kernel_size=3, padding=1)\n",
    "        self.bn4 = nn.BatchNorm2d(64)\n",
    "        \n",
    "        self.conv5 = nn.Conv2d(64, 128, kernel_size=3, padding=1)\n",
    "        self.bn5 = nn.BatchNorm2d(128)\n",
    "        \n",
    "        self.pool = nn.MaxPool2d(2, 2)\n",
    "        self.adaptive_pool = nn.AdaptiveAvgPool2d((4, 4))\n",
    "        self.dropout = nn.Dropout(0.3)\n",
    "        \n",
    "        self.fc1 = nn.Linear(128 * 4 * 4, 256)\n",
    "        self.fc2 = nn.Linear(256, 128)\n",
    "        self.fc3 = nn.Linear(128, 10)\n",
    "    \n",
    "    def forward(self, x):\n",
    "        x = F.relu(self.bn1(self.conv1(x)))\n",
    "        x = self.pool(F.relu(self.bn2(self.conv2(x))))\n",
    "        \n",
    "        x = F.relu(self.bn3(self.conv3(x)))\n",
    "        x = self.pool(F.relu(self.bn4(self.conv4(x))))\n",
    "        \n",
    "        x = F.relu(self.bn5(self.conv5(x)))\n",
    "        x = self.adaptive_pool(x)\n",
    "        \n",
    "        x = x.view(x.size(0), -1)\n",
    "        x = self.dropout(F.relu(self.fc1(x)))\n",
    "        x = self.dropout(F.relu(self.fc2(x)))\n",
    "        x = self.fc3(x)\n",
    "        return x\n",
    "\n",
    "# для быстрого тестирования модели\n",
    "def test_model(model_class, model_name, epochs=5):\n",
    "    \"\"\"Быстрое тестирование модели на нескольких эпохах\"\"\"\n",
    "    print(f\"{'='*50}\")\n",
    "    print(f\"ТЕСТИРОВАНИЕ МОДЕЛИ: {model_name}\")\n",
    "    print(f\"{'='*50}\")\n",
    "    \n",
    "    # Создание модели\n",
    "    test_model = model_class().to(device)\n",
    "    test_optimizer = torch.optim.Adam(test_model.parameters(), lr=0.001, weight_decay=1e-4)\n",
    "    test_scheduler = torch.optim.lr_scheduler.StepLR(test_optimizer, step_size=3, gamma=0.7)\n",
    "    test_criterion = nn.MSELoss()\n",
    "    \n",
    "    # Информация о модели\n",
    "    params = count_parameters(test_model)\n",
    "    print(f\"Количество параметров: {params:,}\")\n",
    "    \n",
    "    # Быстрое обучение\n",
    "    test_history = train_and_evaluate(\n",
    "        model=test_model,\n",
    "        train_loader=train_loader,\n",
    "        val_loader=val_loader,\n",
    "        optimizer=test_optimizer,\n",
    "        criterion=test_criterion,\n",
    "        scheduler=test_scheduler,\n",
    "        num_epochs=epochs,\n",
    "        device=device\n",
    "    )\n",
    "    \n",
    "    best_val_acc = max(test_history['val_acc'])\n",
    "    print(f\"Лучшая валидационная точность: {best_val_acc:.4f} ({best_val_acc*100:.2f}%)\")\n",
    "    \n",
    "    return test_model, test_history, best_val_acc\n",
    "\n",
    "# Тестирование различных архитектур\n",
    "print(\"Сравнение различных архитектур CNN для MNIST:\")\n",
    "print(\"Каждая модель обучается 5 эпох для быстрого сравнения\\\\n\")\n",
    "\n",
    "results = []\n",
    "\n",
    "# Тест компактной модели\n",
    "compact_model, compact_history, compact_acc = test_model(CompactCNN, \"Компактная CNN\", epochs=5)\n",
    "results.append((\"Компактная CNN\", count_parameters(compact_model), compact_acc))\n",
    "\n",
    "# Тест глубокой модели\n",
    "deep_model, deep_history, deep_acc = test_model(DeepCNN, \"Глубокая CNN с BatchNorm\", epochs=5)\n",
    "results.append((\"Глубокая CNN\", count_parameters(deep_model), deep_acc))\n",
    "\n",
    "# Сравнение с основной моделью (берем результат после 5 эпох)\n",
    "main_acc_at_5 = history['val_acc'][4] if len(history['val_acc']) >= 5 else max(history['val_acc'])\n",
    "results.append((\"Основная CNN\", count_parameters(model), main_acc_at_5))\n",
    "\n",
    "print(f\"\\\\n{'='*80}\")\n",
    "print(\"СРАВНЕНИЕ АРХИТЕКТУР (после 5 эпох):\")\n",
    "print(f\"{'='*80}\")\n",
    "print(f\"{'Модель':<25} {'Параметры':<15} {'Точность':<15} {'Сравнение с бейзлайном':<25}\")\n",
    "print(\"-\" * 80)\n",
    "\n",
    "for name, params, acc in sorted(results, key=lambda x: x[2], reverse=True):\n",
    "    comparison = f\"+{(acc - 0.9747)*100:.2f}%\" if acc > 0.9747 else f\"{(acc - 0.9747)*100:.2f}%\"\n",
    "    print(f\"{name:<25} {params:<15,} {acc*100:<14.2f}% {comparison:<25}\")\n",
    "\n",
    "print(\"-\" * 52)\n",
    "print(f\"Бейзлайн: 97.47%\")"
   ]
  },
  {
   "cell_type": "markdown",
   "id": "7bbfd9fc",
   "metadata": {},
   "source": [
    "## 11. Итоговые выводы и анализ"
   ]
  },
  {
   "cell_type": "markdown",
   "id": "4da77ffc",
   "metadata": {},
   "source": [
    "\n",
    "#### Улучшения:\n",
    "\n",
    "1. **Альтернативный оптимизатор**: Использован Adam вместо SGD\n",
    "   - Преимущества: более быстрая и стабильная сходимость\n",
    "   - Адаптивный learning rate для каждого параметра\n",
    "\n",
    "2. **Альтернативная функция потерь**: Использован MSELoss вместо CrossEntropyLoss\n",
    "   - Требует one-hot кодирования меток\n",
    "   - Показывает другую динамику обучения\n",
    "\n",
    "3. **Улучшенная архитектура**:\n",
    "   - 4 сверточных слоя (32→64→128→128 фильтров)\n",
    "   - Использование padding для сохранения размеров\n",
    "   - Dropout для регуляризации\n",
    "   - Более глубокая сеть по сравнению с бейзлайном\n",
    "\n",
    "4. **Полное логгирование метрик**:\n",
    "   - Отслеживание loss и accuracy на каждой эпохе\n",
    "   - Визуализация процесса обучения\n",
    "   - Мониторинг learning rate\n",
    "\n",
    "5. **Подсчет параметров**: Детальная информация о количестве обучаемых параметров\n",
    "\n",
    "\n",
    "####  Вывод:\n",
    "\n",
    "- Много не значит лучше - важен опыт в архитектуре моделей\n"
   ]
  }
 ],
 "metadata": {
  "kernelspec": {
   "display_name": "Python 3.13 (hw_3)",
   "language": "python",
   "name": "hw_3"
  },
  "language_info": {
   "codemirror_mode": {
    "name": "ipython",
    "version": 3
   },
   "file_extension": ".py",
   "mimetype": "text/x-python",
   "name": "python",
   "nbconvert_exporter": "python",
   "pygments_lexer": "ipython3",
   "version": "3.13.7"
  }
 },
 "nbformat": 4,
 "nbformat_minor": 5
}
